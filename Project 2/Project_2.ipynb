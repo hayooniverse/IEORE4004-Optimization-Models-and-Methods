{
  "cells": [
    {
      "cell_type": "code",
      "execution_count": null,
      "id": "17c619cb",
      "metadata": {
        "colab": {
          "base_uri": "https://localhost:8080/",
          "height": 17
        },
        "id": "17c619cb",
        "outputId": "a28ee769-282c-48c5-b55d-81ced932c273"
      },
      "outputs": [
        {
          "data": {
            "text/html": [
              "<style>.container { width:100% !important; }</style>"
            ],
            "text/plain": [
              "<IPython.core.display.HTML object>"
            ]
          },
          "metadata": {},
          "output_type": "display_data"
        }
      ],
      "source": [
        "from IPython.core.display import display, HTML\n",
        "display(HTML(\"<style>.container { width:100% !important; }</style>\"))"
      ]
    },
    {
      "cell_type": "markdown",
      "id": "oXfPbIcTmiho",
      "metadata": {
        "id": "oXfPbIcTmiho"
      },
      "source": [
        "## Project 2. Due by Thursday, February 27. ##\n",
        "\n",
        "For this project we will use the **New York Electric Grid (NYISO) Data**.\n",
        "\n",
        "Throughout, we will compute the length of a link as computed using the latitude and longitude of each node (termed 'bus' in the data set).\n",
        "\n",
        "1. Repeat one million times: take a randomly chosen pair of nodes A and B, and compute the length of a shortest path between them. You can use any library for this purpose. Plot a histogram showing the distribution of lengths.\n",
        "\n",
        "2. Implement the algorithm for the minimum-cost node tour problem (i.e., the node inspection problem) on this data.  You only need to examine **one** pairing of the odd nodes. You only need to report on the **cost** of your tour, that is to say you do not need to implement the splicing operation.\n",
        "\n",
        "3. Now repeat step 2, examining *random* pairings of the odd nodes.  Perform this step for at least 1000 pairings.  The TA/CA may ask to perform more.  Report on the best solution you find.\n",
        "\n",
        "4. Extra credit (**only do this if 1-3 are 100% completed**).  Use the 'splicing' algorithm to actually compute the tour itself, for the best solution obtained in Step 3.\n"
      ]
    },
    {
      "cell_type": "code",
      "execution_count": null,
      "id": "pVHotFMxD_7z",
      "metadata": {
        "id": "pVHotFMxD_7z"
      },
      "outputs": [],
      "source": []
    }
  ],
  "metadata": {
    "colab": {
      "provenance": []
    },
    "kernelspec": {
      "display_name": "Python 3",
      "language": "python",
      "name": "python3"
    },
    "language_info": {
      "codemirror_mode": {
        "name": "ipython",
        "version": 3
      },
      "file_extension": ".py",
      "mimetype": "text/x-python",
      "name": "python",
      "nbconvert_exporter": "python",
      "pygments_lexer": "ipython3",
      "version": "3.9.2"
    }
  },
  "nbformat": 4,
  "nbformat_minor": 5
}